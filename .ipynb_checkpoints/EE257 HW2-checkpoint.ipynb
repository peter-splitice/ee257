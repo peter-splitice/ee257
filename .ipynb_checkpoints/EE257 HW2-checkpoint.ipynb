{
 "cells": [
  {
   "cell_type": "code",
   "execution_count": 168,
   "metadata": {},
   "outputs": [
    {
     "data": {
      "text/plain": [
       "'c:\\\\Users\\\\tickn\\\\ml\\\\EE257'"
      ]
     },
     "execution_count": 168,
     "metadata": {},
     "output_type": "execute_result"
    }
   ],
   "source": [
    "#show current directory\n",
    "%pwd"
   ]
  },
  {
   "cell_type": "code",
   "execution_count": 169,
   "metadata": {},
   "outputs": [],
   "source": [
    "#take care of imports\n",
    "import pandas as pd \n",
    "import matplotlib.pyplot as plt\n",
    "from sklearn.linear_model import LinearRegression\n",
    "import numpy as np\n",
    "import statsmodels.formula.api as sm"
   ]
  },
  {
   "cell_type": "code",
   "execution_count": 170,
   "metadata": {},
   "outputs": [
    {
     "name": "stderr",
     "output_type": "stream",
     "text": [
      "C:\\Users\\tickn\\AppData\\Local\\Temp/ipykernel_8892/894838035.py:3: FutureWarning: In a future version of pandas all arguments of DataFrame.drop except for the argument 'labels' will be keyword-only\n",
      "  dataset = dataset.drop(\"sd_ale\",1)\n"
     ]
    }
   ],
   "source": [
    "## Read the csv file\n",
    "dataset = pd.read_csv('mcs_ds_edited_iter_shuffled.csv') \n",
    "dataset = dataset.drop(\"sd_ale\",1)"
   ]
  },
  {
   "cell_type": "code",
   "execution_count": 171,
   "metadata": {},
   "outputs": [
    {
     "data": {
      "text/html": [
       "<div>\n",
       "<style scoped>\n",
       "    .dataframe tbody tr th:only-of-type {\n",
       "        vertical-align: middle;\n",
       "    }\n",
       "\n",
       "    .dataframe tbody tr th {\n",
       "        vertical-align: top;\n",
       "    }\n",
       "\n",
       "    .dataframe thead th {\n",
       "        text-align: right;\n",
       "    }\n",
       "</style>\n",
       "<table border=\"1\" class=\"dataframe\">\n",
       "  <thead>\n",
       "    <tr style=\"text-align: right;\">\n",
       "      <th></th>\n",
       "      <th>anchor_ratio</th>\n",
       "      <th>trans_range</th>\n",
       "      <th>node_density</th>\n",
       "      <th>iterations</th>\n",
       "      <th>ale</th>\n",
       "    </tr>\n",
       "  </thead>\n",
       "  <tbody>\n",
       "    <tr>\n",
       "      <th>0</th>\n",
       "      <td>30</td>\n",
       "      <td>15</td>\n",
       "      <td>200</td>\n",
       "      <td>40</td>\n",
       "      <td>0.773546</td>\n",
       "    </tr>\n",
       "    <tr>\n",
       "      <th>1</th>\n",
       "      <td>15</td>\n",
       "      <td>15</td>\n",
       "      <td>100</td>\n",
       "      <td>70</td>\n",
       "      <td>0.911941</td>\n",
       "    </tr>\n",
       "    <tr>\n",
       "      <th>2</th>\n",
       "      <td>30</td>\n",
       "      <td>15</td>\n",
       "      <td>100</td>\n",
       "      <td>50</td>\n",
       "      <td>0.814867</td>\n",
       "    </tr>\n",
       "    <tr>\n",
       "      <th>3</th>\n",
       "      <td>15</td>\n",
       "      <td>20</td>\n",
       "      <td>100</td>\n",
       "      <td>20</td>\n",
       "      <td>1.435332</td>\n",
       "    </tr>\n",
       "    <tr>\n",
       "      <th>4</th>\n",
       "      <td>30</td>\n",
       "      <td>15</td>\n",
       "      <td>100</td>\n",
       "      <td>40</td>\n",
       "      <td>1.265909</td>\n",
       "    </tr>\n",
       "  </tbody>\n",
       "</table>\n",
       "</div>"
      ],
      "text/plain": [
       "   anchor_ratio  trans_range  node_density  iterations       ale\n",
       "0            30           15           200          40  0.773546\n",
       "1            15           15           100          70  0.911941\n",
       "2            30           15           100          50  0.814867\n",
       "3            15           20           100          20  1.435332\n",
       "4            30           15           100          40  1.265909"
      ]
     },
     "execution_count": 171,
     "metadata": {},
     "output_type": "execute_result"
    }
   ],
   "source": [
    "#show first few rows of datafile\n",
    "dataset.head()"
   ]
  },
  {
   "cell_type": "code",
   "execution_count": 172,
   "metadata": {},
   "outputs": [
    {
     "name": "stdout",
     "output_type": "stream",
     "text": [
      "<class 'pandas.core.frame.DataFrame'>\n",
      "RangeIndex: 107 entries, 0 to 106\n",
      "Data columns (total 5 columns):\n",
      " #   Column        Non-Null Count  Dtype  \n",
      "---  ------        --------------  -----  \n",
      " 0   anchor_ratio  107 non-null    int64  \n",
      " 1   trans_range   107 non-null    int64  \n",
      " 2   node_density  107 non-null    int64  \n",
      " 3   iterations    107 non-null    int64  \n",
      " 4   ale           107 non-null    float64\n",
      "dtypes: float64(1), int64(4)\n",
      "memory usage: 4.3 KB\n"
     ]
    }
   ],
   "source": [
    "dataset.info()"
   ]
  },
  {
   "cell_type": "code",
   "execution_count": 173,
   "metadata": {},
   "outputs": [
    {
     "data": {
      "text/html": [
       "<div>\n",
       "<style scoped>\n",
       "    .dataframe tbody tr th:only-of-type {\n",
       "        vertical-align: middle;\n",
       "    }\n",
       "\n",
       "    .dataframe tbody tr th {\n",
       "        vertical-align: top;\n",
       "    }\n",
       "\n",
       "    .dataframe thead th {\n",
       "        text-align: right;\n",
       "    }\n",
       "</style>\n",
       "<table border=\"1\" class=\"dataframe\">\n",
       "  <thead>\n",
       "    <tr style=\"text-align: right;\">\n",
       "      <th></th>\n",
       "      <th>anchor_ratio</th>\n",
       "      <th>trans_range</th>\n",
       "      <th>node_density</th>\n",
       "      <th>iterations</th>\n",
       "      <th>ale</th>\n",
       "    </tr>\n",
       "  </thead>\n",
       "  <tbody>\n",
       "    <tr>\n",
       "      <th>count</th>\n",
       "      <td>107.000000</td>\n",
       "      <td>107.000000</td>\n",
       "      <td>107.000000</td>\n",
       "      <td>107.000000</td>\n",
       "      <td>107.000000</td>\n",
       "    </tr>\n",
       "    <tr>\n",
       "      <th>mean</th>\n",
       "      <td>20.523364</td>\n",
       "      <td>17.878505</td>\n",
       "      <td>159.813084</td>\n",
       "      <td>47.887850</td>\n",
       "      <td>0.983471</td>\n",
       "    </tr>\n",
       "    <tr>\n",
       "      <th>std</th>\n",
       "      <td>6.739556</td>\n",
       "      <td>3.107235</td>\n",
       "      <td>71.189109</td>\n",
       "      <td>24.668874</td>\n",
       "      <td>0.408313</td>\n",
       "    </tr>\n",
       "    <tr>\n",
       "      <th>min</th>\n",
       "      <td>10.000000</td>\n",
       "      <td>12.000000</td>\n",
       "      <td>100.000000</td>\n",
       "      <td>14.000000</td>\n",
       "      <td>0.394029</td>\n",
       "    </tr>\n",
       "    <tr>\n",
       "      <th>25%</th>\n",
       "      <td>15.000000</td>\n",
       "      <td>15.000000</td>\n",
       "      <td>100.000000</td>\n",
       "      <td>30.000000</td>\n",
       "      <td>0.655368</td>\n",
       "    </tr>\n",
       "    <tr>\n",
       "      <th>50%</th>\n",
       "      <td>18.000000</td>\n",
       "      <td>17.000000</td>\n",
       "      <td>100.000000</td>\n",
       "      <td>40.000000</td>\n",
       "      <td>0.899102</td>\n",
       "    </tr>\n",
       "    <tr>\n",
       "      <th>75%</th>\n",
       "      <td>30.000000</td>\n",
       "      <td>20.000000</td>\n",
       "      <td>200.000000</td>\n",
       "      <td>70.000000</td>\n",
       "      <td>1.196418</td>\n",
       "    </tr>\n",
       "    <tr>\n",
       "      <th>max</th>\n",
       "      <td>30.000000</td>\n",
       "      <td>25.000000</td>\n",
       "      <td>300.000000</td>\n",
       "      <td>100.000000</td>\n",
       "      <td>2.568407</td>\n",
       "    </tr>\n",
       "  </tbody>\n",
       "</table>\n",
       "</div>"
      ],
      "text/plain": [
       "       anchor_ratio  trans_range  node_density  iterations         ale\n",
       "count    107.000000   107.000000    107.000000  107.000000  107.000000\n",
       "mean      20.523364    17.878505    159.813084   47.887850    0.983471\n",
       "std        6.739556     3.107235     71.189109   24.668874    0.408313\n",
       "min       10.000000    12.000000    100.000000   14.000000    0.394029\n",
       "25%       15.000000    15.000000    100.000000   30.000000    0.655368\n",
       "50%       18.000000    17.000000    100.000000   40.000000    0.899102\n",
       "75%       30.000000    20.000000    200.000000   70.000000    1.196418\n",
       "max       30.000000    25.000000    300.000000  100.000000    2.568407"
      ]
     },
     "execution_count": 173,
     "metadata": {},
     "output_type": "execute_result"
    }
   ],
   "source": [
    "# get summary statistics of dataset\n",
    "dataset.describe()"
   ]
  },
  {
   "cell_type": "code",
   "execution_count": 174,
   "metadata": {},
   "outputs": [
    {
     "data": {
      "text/plain": [
       "(array([1.07672256]), array([[ 0.        , -0.00454369]]))"
      ]
     },
     "execution_count": 174,
     "metadata": {},
     "output_type": "execute_result"
    }
   ],
   "source": [
    "# Use SKLEARN to do the linear regression\n",
    "X0 = np.c_[np.ones((107, 1)), dataset[\"anchor_ratio\"].values]\n",
    "y0 = dataset[\"ale\"].values.reshape((107,1))\n",
    "y0.shape\n",
    "\n",
    "lin_reg0 = LinearRegression()\n",
    "lin_reg0.fit(X0,y0)\n",
    "lin_reg0.intercept_, lin_reg0.coef_"
   ]
  },
  {
   "cell_type": "markdown",
   "metadata": {},
   "source": [
    "### Problem 4 part c"
   ]
  },
  {
   "cell_type": "code",
   "execution_count": 175,
   "metadata": {},
   "outputs": [
    {
     "data": {
      "text/plain": [
       "<matplotlib.legend.Legend at 0x1b1ca04be50>"
      ]
     },
     "execution_count": 175,
     "metadata": {},
     "output_type": "execute_result"
    },
    {
     "data": {
      "image/png": "[encoded data removed]",
      "text/plain": [
       "<Figure size 432x288 with 1 Axes>"
      ]
     },
     "metadata": {
      "needs_background": "light"
     },
     "output_type": "display_data"
    }
   ],
   "source": [
    "# Simple linear regression ALE vs Anchor Ratio\n",
    "x0_line = np.arange(0 , np.max(dataset[\"anchor_ratio\"]))\n",
    "y0_line = lin_reg0.intercept_ + x0_line * lin_reg0.coef_[0,1]\n",
    "\n",
    "plt.plot(x0_line, y0_line, color =\"r\", label='regression line')\n",
    "plt.scatter(dataset[\"anchor_ratio\"].values, dataset[\"ale\"].values, label='data points')\n",
    "plt.xlabel('anchor_ratio')\n",
    "plt.ylabel('ale')\n",
    "plt.legend(loc='upper left')\n"
   ]
  },
  {
   "cell_type": "markdown",
   "metadata": {},
   "source": [
    "### Problem 4 part d\n",
    "##### ALE vs anchor_ratio"
   ]
  },
  {
   "cell_type": "code",
   "execution_count": 176,
   "metadata": {},
   "outputs": [
    {
     "name": "stdout",
     "output_type": "stream",
     "text": [
      "                            OLS Regression Results                            \n",
      "==============================================================================\n",
      "Dep. Variable:                    ale   R-squared:                       0.006\n",
      "Model:                            OLS   Adj. R-squared:                 -0.004\n",
      "Method:                 Least Squares   F-statistic:                    0.5939\n",
      "Date:                Tue, 01 Mar 2022   Prob (F-statistic):              0.443\n",
      "Time:                        22:22:31   Log-Likelihood:                -55.180\n",
      "No. Observations:                 107   AIC:                             114.4\n",
      "Df Residuals:                     105   BIC:                             119.7\n",
      "Df Model:                           1                                         \n",
      "Covariance Type:            nonrobust                                         \n",
      "================================================================================\n",
      "                   coef    std err          t      P>|t|      [0.025      0.975]\n",
      "--------------------------------------------------------------------------------\n",
      "Intercept        1.0767      0.127      8.458      0.000       0.824       1.329\n",
      "anchor_ratio    -0.0045      0.006     -0.771      0.443      -0.016       0.007\n",
      "==============================================================================\n",
      "Omnibus:                       32.136   Durbin-Watson:                   1.973\n",
      "Prob(Omnibus):                  0.000   Jarque-Bera (JB):               53.495\n",
      "Skew:                           1.333   Prob(JB):                     2.42e-12\n",
      "Kurtosis:                       5.212   Cond. No.                         69.6\n",
      "==============================================================================\n",
      "\n",
      "Notes:\n",
      "[1] Standard Errors assume that the covariance matrix of the errors is correctly specified.\n"
     ]
    }
   ],
   "source": [
    "# Use statmodel API to get OLS table\n",
    "results = sm.ols('ale ~ anchor_ratio', dataset).fit()\n",
    "print(results.summary())\n"
   ]
  },
  {
   "cell_type": "markdown",
   "metadata": {},
   "source": [
    "### Problem 4 part e\n",
    "\n"
   ]
  },
  {
   "cell_type": "markdown",
   "metadata": {},
   "source": [
    "*Is there a relationship between predictor and response?* <br/>\n",
    "*How strong is the relationship* <br/>\n",
    "*Is the relationship positive or negative?* <br/>\n",
    "\n",
    "The $\\beta$<sub>1</sub> coefficient is negative and close to 0, so there is a very weak and negative relationship between ALE and anchor_ratio\n"
   ]
  },
  {
   "cell_type": "markdown",
   "metadata": {},
   "source": [
    "### Problem 4 part f\n",
    "##### ALE vs trans_range"
   ]
  },
  {
   "cell_type": "code",
   "execution_count": 177,
   "metadata": {},
   "outputs": [
    {
     "data": {
      "text/plain": [
       "<matplotlib.legend.Legend at 0x1b1ca0adfd0>"
      ]
     },
     "execution_count": 177,
     "metadata": {},
     "output_type": "execute_result"
    },
    {
     "data": {
      "image/png": "[encoded data removed]",
      "text/plain": [
       "<Figure size 432x288 with 1 Axes>"
      ]
     },
     "metadata": {
      "needs_background": "light"
     },
     "output_type": "display_data"
    }
   ],
   "source": [
    "# Simple linear regression ALE vs Transmission Range\n",
    "X1 = np.c_[np.ones((107, 1)), dataset[\"trans_range\"].values]\n",
    "y1 = dataset[\"ale\"].values.reshape((107,1))\n",
    "y1.shape\n",
    "\n",
    "lin_reg1 = LinearRegression()\n",
    "lin_reg1.fit(X1,y1)\n",
    "lin_reg1.intercept_, lin_reg1.coef_ \n",
    "\n",
    "x1_line = np.arange(0 , np.max(dataset[\"trans_range\"]))\n",
    "y1_line = lin_reg1.intercept_ + x1_line * lin_reg1.coef_[0,1]\n",
    "\n",
    "plt.plot(x1_line, y1_line, color =\"r\", label='regression line')\n",
    "plt.scatter(dataset[\"trans_range\"].values, dataset[\"ale\"].values, label='data points')\n",
    "plt.xlabel('trans_range')\n",
    "plt.ylabel('ale')\n",
    "plt.legend(loc='upper left')\n"
   ]
  },
  {
   "cell_type": "code",
   "execution_count": 178,
   "metadata": {},
   "outputs": [
    {
     "name": "stdout",
     "output_type": "stream",
     "text": [
      "                            OLS Regression Results                            \n",
      "==============================================================================\n",
      "Dep. Variable:                    ale   R-squared:                       0.012\n",
      "Model:                            OLS   Adj. R-squared:                  0.003\n",
      "Method:                 Least Squares   F-statistic:                     1.270\n",
      "Date:                Tue, 01 Mar 2022   Prob (F-statistic):              0.262\n",
      "Time:                        22:22:32   Log-Likelihood:                -54.839\n",
      "No. Observations:                 107   AIC:                             113.7\n",
      "Df Residuals:                     105   BIC:                             119.0\n",
      "Df Model:                           1                                         \n",
      "Covariance Type:            nonrobust                                         \n",
      "===============================================================================\n",
      "                  coef    std err          t      P>|t|      [0.025      0.975]\n",
      "-------------------------------------------------------------------------------\n",
      "Intercept       0.7267      0.231      3.142      0.002       0.268       1.185\n",
      "trans_range     0.0144      0.013      1.127      0.262      -0.011       0.040\n",
      "==============================================================================\n",
      "Omnibus:                       33.628   Durbin-Watson:                   1.960\n",
      "Prob(Omnibus):                  0.000   Jarque-Bera (JB):               58.564\n",
      "Skew:                           1.364   Prob(JB):                     1.92e-13\n",
      "Kurtosis:                       5.387   Cond. No.                         107.\n",
      "==============================================================================\n",
      "\n",
      "Notes:\n",
      "[1] Standard Errors assume that the covariance matrix of the errors is correctly specified.\n"
     ]
    }
   ],
   "source": [
    "# Use statmodel API to get OLS table\n",
    "results1 = sm.ols('ale ~ trans_range', dataset).fit()\n",
    "print(results1.summary())\n"
   ]
  },
  {
   "cell_type": "markdown",
   "metadata": {},
   "source": [
    "The $\\beta$<sub>1</sub> coefficient is positive and has greater magnitude than the coefficient from linear regression of ALE & anchor_ratio. Therefore, there is a stronger relationship between the ALE and transmission range, as range increases, so does the localization error"
   ]
  },
  {
   "cell_type": "markdown",
   "metadata": {},
   "source": [
    "##### ALE vs node_density"
   ]
  },
  {
   "cell_type": "code",
   "execution_count": 179,
   "metadata": {},
   "outputs": [
    {
     "data": {
      "text/plain": [
       "<matplotlib.legend.Legend at 0x1b1ca1168b0>"
      ]
     },
     "execution_count": 179,
     "metadata": {},
     "output_type": "execute_result"
    },
    {
     "data": {
      "image/png": "[encoded data removed]",
      "text/plain": [
       "<Figure size 432x288 with 1 Axes>"
      ]
     },
     "metadata": {
      "needs_background": "light"
     },
     "output_type": "display_data"
    }
   ],
   "source": [
    "# Simple linear regression ALE vs Transmission Range\n",
    "X2 = np.c_[np.ones((107, 1)), dataset[\"node_density\"].values]\n",
    "y2 = dataset[\"ale\"].values.reshape((107,1))\n",
    "y2.shape\n",
    "\n",
    "lin_reg2 = LinearRegression()\n",
    "lin_reg2.fit(X2,y2)\n",
    "lin_reg2.intercept_, lin_reg1.coef_ \n",
    "\n",
    "x2_line = np.arange(0 , np.max(dataset[\"node_density\"]))\n",
    "y2_line = lin_reg2.intercept_ + x2_line * lin_reg2.coef_[0,1]\n",
    "\n",
    "plt.plot(x2_line, y2_line, color =\"r\", label='regression line')\n",
    "plt.scatter(dataset[\"node_density\"].values, dataset[\"ale\"].values, label='data points')\n",
    "plt.xlabel('node_density')\n",
    "plt.ylabel('ale')\n",
    "plt.legend(loc='upper left')\n"
   ]
  },
  {
   "cell_type": "code",
   "execution_count": 180,
   "metadata": {},
   "outputs": [
    {
     "name": "stdout",
     "output_type": "stream",
     "text": [
      "                            OLS Regression Results                            \n",
      "==============================================================================\n",
      "Dep. Variable:                    ale   R-squared:                       0.417\n",
      "Model:                            OLS   Adj. R-squared:                  0.412\n",
      "Method:                 Least Squares   F-statistic:                     75.17\n",
      "Date:                Tue, 01 Mar 2022   Prob (F-statistic):           5.80e-14\n",
      "Time:                        22:22:32   Log-Likelihood:                -26.595\n",
      "No. Observations:                 107   AIC:                             57.19\n",
      "Df Residuals:                     105   BIC:                             62.54\n",
      "Df Model:                           1                                         \n",
      "Covariance Type:            nonrobust                                         \n",
      "================================================================================\n",
      "                   coef    std err          t      P>|t|      [0.025      0.975]\n",
      "--------------------------------------------------------------------------------\n",
      "Intercept        1.5755      0.075     21.092      0.000       1.427       1.724\n",
      "node_density    -0.0037      0.000     -8.670      0.000      -0.005      -0.003\n",
      "==============================================================================\n",
      "Omnibus:                       45.059   Durbin-Watson:                   1.765\n",
      "Prob(Omnibus):                  0.000   Jarque-Bera (JB):              117.889\n",
      "Skew:                           1.572   Prob(JB):                     2.52e-26\n",
      "Kurtosis:                       7.070   Cond. No.                         431.\n",
      "==============================================================================\n",
      "\n",
      "Notes:\n",
      "[1] Standard Errors assume that the covariance matrix of the errors is correctly specified.\n"
     ]
    }
   ],
   "source": [
    "# Use statmodel API to get OLS table\n",
    "results2 = sm.ols('ale ~ node_density', dataset).fit()\n",
    "print(results2.summary())\n"
   ]
  },
  {
   "cell_type": "markdown",
   "metadata": {},
   "source": [
    "From the linear regression plot, $\\beta$<sub>1</sub> coefficient looks to be strongly and negatively correlated to ALE. The more nodes in an area, the lower the ALE will be. However, the coefficient value in the OLS table does not seem to correspond with the relationship in the linear regression plot. This may be due to high values of node density which are not normalized."
   ]
  },
  {
   "cell_type": "markdown",
   "metadata": {},
   "source": [
    "##### ALE vs iterations"
   ]
  },
  {
   "cell_type": "code",
   "execution_count": 181,
   "metadata": {},
   "outputs": [
    {
     "data": {
      "text/plain": [
       "<matplotlib.legend.Legend at 0x1b1ca18ebb0>"
      ]
     },
     "execution_count": 181,
     "metadata": {},
     "output_type": "execute_result"
    },
    {
     "data": {
      "image/png": "[encoded data removed]",
      "text/plain": [
       "<Figure size 432x288 with 1 Axes>"
      ]
     },
     "metadata": {
      "needs_background": "light"
     },
     "output_type": "display_data"
    }
   ],
   "source": [
    "# Simple linear regression ALE vs number of CS iterations\n",
    "X3 = np.c_[np.ones((107, 1)), dataset[\"iterations\"].values]\n",
    "y3 = dataset[\"ale\"].values.reshape((107,1))\n",
    "y3.shape\n",
    "\n",
    "lin_reg3 = LinearRegression()\n",
    "lin_reg3.fit(X3,y3)\n",
    "lin_reg3.intercept_, lin_reg3.coef_ \n",
    "\n",
    "x3_line = np.arange(0 , np.max(dataset[\"iterations\"]))\n",
    "y3_line = lin_reg3.intercept_ + x3_line * lin_reg3.coef_[0,1]\n",
    "\n",
    "plt.plot(x3_line, y3_line, color =\"r\", label='regression line')\n",
    "plt.scatter(dataset[\"iterations\"].values, dataset[\"ale\"].values, label='data points')\n",
    "plt.xlabel('iterations')\n",
    "plt.ylabel('ale')\n",
    "plt.legend(loc='upper left')\n"
   ]
  },
  {
   "cell_type": "code",
   "execution_count": 182,
   "metadata": {},
   "outputs": [
    {
     "name": "stdout",
     "output_type": "stream",
     "text": [
      "                            OLS Regression Results                            \n",
      "==============================================================================\n",
      "Dep. Variable:                    ale   R-squared:                       0.160\n",
      "Model:                            OLS   Adj. R-squared:                  0.152\n",
      "Method:                 Least Squares   F-statistic:                     20.05\n",
      "Date:                Tue, 01 Mar 2022   Prob (F-statistic):           1.93e-05\n",
      "Time:                        22:22:33   Log-Likelihood:                -46.134\n",
      "No. Observations:                 107   AIC:                             96.27\n",
      "Df Residuals:                     105   BIC:                             101.6\n",
      "Df Model:                           1                                         \n",
      "Covariance Type:            nonrobust                                         \n",
      "==============================================================================\n",
      "                 coef    std err          t      P>|t|      [0.025      0.975]\n",
      "------------------------------------------------------------------------------\n",
      "Intercept      1.3008      0.080     16.331      0.000       1.143       1.459\n",
      "iterations    -0.0066      0.001     -4.477      0.000      -0.010      -0.004\n",
      "==============================================================================\n",
      "Omnibus:                       15.474   Durbin-Watson:                   2.129\n",
      "Prob(Omnibus):                  0.000   Jarque-Bera (JB):               18.212\n",
      "Skew:                           0.820   Prob(JB):                     0.000111\n",
      "Kurtosis:                       4.181   Cond. No.                         118.\n",
      "==============================================================================\n",
      "\n",
      "Notes:\n",
      "[1] Standard Errors assume that the covariance matrix of the errors is correctly specified.\n"
     ]
    }
   ],
   "source": [
    "# Use statmodel API to get OLS table\n",
    "results3 = sm.ols('ale ~ iterations', dataset).fit()\n",
    "print(results3.summary())\n"
   ]
  },
  {
   "cell_type": "markdown",
   "metadata": {},
   "source": [
    "Again, from the linear regression plot, $\\beta$<sub>1</sub> coefficient looks to be strongly and negatively correlated to ALE. However, it does not appear iteration is as strongly related than node density. Also, the coefficient value in the OLS table does not seem to proportional with the relationship in the linear regression plot. This may be due to higher values of iteration which are not normalized."
   ]
  },
  {
   "cell_type": "markdown",
   "metadata": {},
   "source": [
    "##### Problem 4 part g"
   ]
  },
  {
   "cell_type": "code",
   "execution_count": 183,
   "metadata": {},
   "outputs": [
    {
     "name": "stdout",
     "output_type": "stream",
     "text": [
      "                            OLS Regression Results                            \n",
      "==============================================================================\n",
      "Dep. Variable:                    ale   R-squared:                       0.670\n",
      "Model:                            OLS   Adj. R-squared:                  0.657\n",
      "Method:                 Least Squares   F-statistic:                     51.69\n",
      "Date:                Tue, 01 Mar 2022   Prob (F-statistic):           1.03e-23\n",
      "Time:                        22:22:33   Log-Likelihood:                 3.7749\n",
      "No. Observations:                 107   AIC:                             2.450\n",
      "Df Residuals:                     102   BIC:                             15.81\n",
      "Df Model:                           4                                         \n",
      "Covariance Type:            nonrobust                                         \n",
      "================================================================================\n",
      "                   coef    std err          t      P>|t|      [0.025      0.975]\n",
      "--------------------------------------------------------------------------------\n",
      "Intercept        2.7008      0.207     13.018      0.000       2.289       3.112\n",
      "anchor_ratio    -0.0102      0.004     -2.918      0.004      -0.017      -0.003\n",
      "trans_range     -0.0244      0.008     -3.063      0.003      -0.040      -0.009\n",
      "node_density    -0.0043      0.000    -12.480      0.000      -0.005      -0.004\n",
      "iterations      -0.0081      0.001     -8.327      0.000      -0.010      -0.006\n",
      "==============================================================================\n",
      "Omnibus:                       40.942   Durbin-Watson:                   1.934\n",
      "Prob(Omnibus):                  0.000   Jarque-Bera (JB):              118.914\n",
      "Skew:                           1.353   Prob(JB):                     1.51e-26\n",
      "Kurtosis:                       7.398   Cond. No.                     1.63e+03\n",
      "==============================================================================\n",
      "\n",
      "Notes:\n",
      "[1] Standard Errors assume that the covariance matrix of the errors is correctly specified.\n",
      "[2] The condition number is large, 1.63e+03. This might indicate that there are\n",
      "strong multicollinearity or other numerical problems.\n"
     ]
    }
   ],
   "source": [
    "results_multi = sm.ols('ale ~ anchor_ratio + trans_range + node_density + iterations', dataset).fit()\n",
    "print(results_multi.summary())"
   ]
  },
  {
   "cell_type": "markdown",
   "metadata": {},
   "source": [
    "It seems with multi linear regression using all 4 inputs, anchor_ratio and trans_range have the most significant relationship to the ALE response. As we increase the number of anchor sensors and transmission range, ALE should go down. This is contrary to the simple linear regression of ALE and transmission range which suggest an increase in transmission raneg would increase the predicted ALE."
   ]
  },
  {
   "cell_type": "markdown",
   "metadata": {},
   "source": [
    "##### Problem 4 part h"
   ]
  },
  {
   "cell_type": "code",
   "execution_count": 184,
   "metadata": {},
   "outputs": [
    {
     "name": "stdout",
     "output_type": "stream",
     "text": [
      "                            OLS Regression Results                            \n",
      "==============================================================================\n",
      "Dep. Variable:                    ale   R-squared:                       0.717\n",
      "Model:                            OLS   Adj. R-squared:                  0.706\n",
      "Method:                 Least Squares   F-statistic:                     64.51\n",
      "Date:                Tue, 01 Mar 2022   Prob (F-statistic):           4.36e-27\n",
      "Time:                        22:22:33   Log-Likelihood:                 11.993\n",
      "No. Observations:                 107   AIC:                            -13.99\n",
      "Df Residuals:                     102   BIC:                           -0.6228\n",
      "Df Model:                           4                                         \n",
      "Covariance Type:            nonrobust                                         \n",
      "================================================================================\n",
      "                   coef    std err          t      P>|t|      [0.025      0.975]\n",
      "--------------------------------------------------------------------------------\n",
      "Intercept        5.8236      0.430     13.530      0.000       4.970       6.677\n",
      "anchor_ratio    -0.0110      0.003     -3.373      0.001      -0.017      -0.005\n",
      "trans_range     -0.2273      0.064     -3.553      0.001      -0.354      -0.100\n",
      "node_density    -0.3959      0.029    -13.445      0.000      -0.454      -0.338\n",
      "iterations      -0.6057      0.064     -9.531      0.000      -0.732      -0.480\n",
      "==============================================================================\n",
      "Omnibus:                       36.478   Durbin-Watson:                   1.900\n",
      "Prob(Omnibus):                  0.000   Jarque-Bera (JB):              107.880\n",
      "Skew:                           1.178   Prob(JB):                     3.75e-24\n",
      "Kurtosis:                       7.319   Cond. No.                         461.\n",
      "==============================================================================\n",
      "\n",
      "Notes:\n",
      "[1] Standard Errors assume that the covariance matrix of the errors is correctly specified.\n"
     ]
    }
   ],
   "source": [
    "# Polynomial transform\n",
    "dataset_nonlinear = dataset\n",
    "dataset_nonlinear[\"trans_range\"] = pow(dataset[\"trans_range\"],1/2)\n",
    "dataset_nonlinear[\"node_density\"] = pow(dataset[\"node_density\"],1/3)\n",
    "dataset_nonlinear[\"iterations\"] = pow(dataset[\"iterations\"],1/4)\n",
    "\n",
    "results_poly = sm.ols('ale ~ anchor_ratio + trans_range + node_density + iterations', dataset_nonlinear).fit()\n",
    "print(results_poly.summary())"
   ]
  },
  {
   "cell_type": "markdown",
   "metadata": {},
   "source": [
    "Comparing regression results of my nonlinear features and the coefficients from multi linear regression, the coefficients and suggested relationship between features and the response are significantly different. In the simple linear regression between ALE and node_density / iterations, I observed the value of the OLS table coefficients did not seem proportional to the relationship suggested by the linear regression plot. Possible explanations for this were the magnitude of input values were too large and not normalized. By taking the cubed and quadratic root of node_density and iterations respectively, the new coefficient values of the nonlinear features increases significantly."
   ]
  },
  {
   "cell_type": "markdown",
   "metadata": {},
   "source": [
    "##### Problem 4 part i"
   ]
  },
  {
   "cell_type": "code",
   "execution_count": 185,
   "metadata": {},
   "outputs": [
    {
     "name": "stdout",
     "output_type": "stream",
     "text": [
      "              anchor_ratio  trans_range  node_density  iterations       ale\n",
      "anchor_ratio      1.000000    -0.101142     -0.141554    0.037617 -0.074997\n",
      "trans_range      -0.101142     1.000000     -0.250559   -0.217159  0.116640\n",
      "node_density     -0.141554    -0.250559      1.000000   -0.027120 -0.655844\n",
      "iterations        0.037617    -0.217159     -0.027120    1.000000 -0.459518\n",
      "ale              -0.074997     0.116640     -0.655844   -0.459518  1.000000\n"
     ]
    }
   ],
   "source": [
    "corr_matrix = dataset.corr()\n",
    "print(corr_matrix)"
   ]
  }
 ],
 "metadata": {
  "interpreter": {
   "hash": "b98948d77b2674b121e07fa87853bc8fb999bdfd9d3945db432cae405ad87eae"
  },
  "kernelspec": {
   "display_name": "Python 3 (ipykernel)",
   "language": "python",
   "name": "python3"
  },
  "language_info": {
   "codemirror_mode": {
    "name": "ipython",
    "version": 3
   },
   "file_extension": ".py",
   "mimetype": "text/x-python",
   "name": "python",
   "nbconvert_exporter": "python",
   "pygments_lexer": "ipython3",
   "version": "3.8.12"
  }
 },
 "nbformat": 4,
 "nbformat_minor": 2
}

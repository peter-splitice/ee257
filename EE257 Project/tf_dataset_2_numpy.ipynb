{
 "cells": [
  {
   "cell_type": "code",
   "execution_count": 5,
   "metadata": {},
   "outputs": [],
   "source": [
    "import os\n",
    "\n",
    "current_path = os.getcwd()\n",
    "dataset_path = current_path + '\\dataset'"
   ]
  },
  {
   "cell_type": "code",
   "execution_count": 6,
   "metadata": {},
   "outputs": [
    {
     "name": "stdout",
     "output_type": "stream",
     "text": [
      "Number of images: 597\n"
     ]
    }
   ],
   "source": [
    "# Number of observations\n",
    "\n",
    "import pathlib\n",
    "\n",
    "data_dir = pathlib.Path(dataset_path + '\\data')\n",
    "image_count = len(list(data_dir.glob('**\\*.jpg')))\n",
    "print(\"Number of images: \" + str(image_count))"
   ]
  },
  {
   "cell_type": "code",
   "execution_count": 7,
   "metadata": {},
   "outputs": [
    {
     "name": "stdout",
     "output_type": "stream",
     "text": [
      "Image size is 250 by 250 pixels\n"
     ]
    }
   ],
   "source": [
    "# Image size\n",
    "from PIL import Image\n",
    "import random\n",
    "\n",
    "def describe_img(filepath):\n",
    "    rand_img = random.choice(list(filepath.glob('**\\*.jpg')))\n",
    "    # rand_img_path = random.choice(data_dir.glob('**\\*.jpg'))\n",
    "    # rand_image = random.choice(os.listdir(filepath))\n",
    "    # img_fp = os.path.join(filepath , rand_image)\n",
    "\n",
    "    width, height = Image.open(str(rand_img)).size\n",
    "\n",
    "    return width, height\n",
    "\n",
    "img_width, img_height = describe_img(data_dir)\n",
    "print('Image size is %s by %s pixels' %(img_width, img_height))\n"
   ]
  },
  {
   "cell_type": "code",
   "execution_count": 8,
   "metadata": {},
   "outputs": [
    {
     "name": "stdout",
     "output_type": "stream",
     "text": [
      "Found 597 files belonging to 4 classes.\n",
      "---------------------\n",
      "Class names:\n",
      "Cofield\n",
      "Depuy\n",
      "Tornier\n",
      "Zimmer\n"
     ]
    }
   ],
   "source": [
    "# Number of classes and class names\n",
    "import tensorflow as tf\n",
    "from tensorflow import keras \n",
    "\n",
    "batch_size = 32\n",
    "\n",
    "ds = tf.keras.utils.image_dataset_from_directory(\n",
    "    data_dir,\n",
    "    image_size = (img_height , img_width),\n",
    ")\n",
    "\n",
    "print('---------------------')\n",
    "\n",
    "print(\"Class names:\")\n",
    "for name in ds.class_names:\n",
    "    print(name)\n"
   ]
  },
  {
   "cell_type": "code",
   "execution_count": 9,
   "metadata": {},
   "outputs": [],
   "source": [
    "# as_numpy_iterator turn tf dataset to numpy arrays to be used with other libs\n",
    "# listed is array of 19 tuples\n",
    "# each tuple contains batch of 32 observations\n",
    "\n",
    "listed = list(ds.as_numpy_iterator())\n",
    "listed"
   ]
  },
  {
   "cell_type": "code",
   "execution_count": 34,
   "metadata": {},
   "outputs": [
    {
     "data": {
      "text/plain": [
       "array([0., 0., 0.], dtype=float32)"
      ]
     },
     "execution_count": 34,
     "metadata": {},
     "output_type": "execute_result"
    }
   ],
   "source": [
    "\n",
    "import numpy as np\n",
    "\n",
    "listed[0]               # access first tuple\n",
    "listed[0][0]            # access array of 32 images from first tuple\n",
    "listed[0][1]            # access array of lables of 32 imgs from first tuple\n",
    "listed[0][0][0]         # access first image of first array of 32 image from first tuple\n",
    "listed[0][0][1]         # access 2nd image of first array of 32 image from first tuple\n",
    "listed[0][0][0][0]      # first row of first image\n",
    "listed[0][0][0][0][0]   # first column of first row\n",
    "\n",
    "# [tuple][images][image#][image row][column of row]"
   ]
  },
  {
   "cell_type": "code",
   "execution_count": 36,
   "metadata": {},
   "outputs": [],
   "source": [
    "test = [['a','b'],\n",
    " ['c','d']]"
   ]
  },
  {
   "cell_type": "code",
   "execution_count": 37,
   "metadata": {},
   "outputs": [
    {
     "data": {
      "text/plain": [
       "['a', 'b']"
      ]
     },
     "execution_count": 37,
     "metadata": {},
     "output_type": "execute_result"
    }
   ],
   "source": [
    "test[0]"
   ]
  },
  {
   "cell_type": "code",
   "execution_count": 38,
   "metadata": {},
   "outputs": [
    {
     "data": {
      "text/plain": [
       "'b'"
      ]
     },
     "execution_count": 38,
     "metadata": {},
     "output_type": "execute_result"
    }
   ],
   "source": [
    "test[0][1]"
   ]
  },
  {
   "cell_type": "code",
   "execution_count": null,
   "metadata": {},
   "outputs": [],
   "source": []
  }
 ],
 "metadata": {
  "interpreter": {
   "hash": "b98948d77b2674b121e07fa87853bc8fb999bdfd9d3945db432cae405ad87eae"
  },
  "kernelspec": {
   "display_name": "Python 3.8.0 ('tf')",
   "language": "python",
   "name": "python3"
  },
  "language_info": {
   "codemirror_mode": {
    "name": "ipython",
    "version": 3
   },
   "file_extension": ".py",
   "mimetype": "text/x-python",
   "name": "python",
   "nbconvert_exporter": "python",
   "pygments_lexer": "ipython3",
   "version": "3.8.0"
  },
  "orig_nbformat": 4
 },
 "nbformat": 4,
 "nbformat_minor": 2
}
